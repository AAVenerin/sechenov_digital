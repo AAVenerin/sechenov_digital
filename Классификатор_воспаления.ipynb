{
  "nbformat": 4,
  "nbformat_minor": 0,
  "metadata": {
    "colab": {
      "provenance": []
    },
    "kernelspec": {
      "name": "python3",
      "display_name": "Python 3"
    },
    "language_info": {
      "name": "python"
    }
  },
  "cells": [
    {
      "cell_type": "markdown",
      "source": [
        "#Приоритет 2030, Сеченовский университет\n",
        "##\"Классификатор бактериального и вирусного воспаления по анализу гемограмм с использованием методов машинного обучения\"\n",
        "*Венерин А.А., Каневский Н.И.*\n",
        "###Институт цифровой медицины, ИКМ им. Н.В. Склифосовского\n",
        "\n"
      ],
      "metadata": {
        "id": "KumLkdL12Y8B"
      }
    },
    {
      "cell_type": "markdown",
      "source": [
        "### Аннотация"
      ],
      "metadata": {
        "id": "hvReGEaM2zwJ"
      }
    },
    {
      "cell_type": "markdown",
      "source": [
        "В работе представлен вариант упрощенного гематологического классификатора, группирующий объекты по группам нормы, бактериального и вирусного воспаления. В работе представлены реализации методов машинного обучения с учителем: решающее дерево и случайный лес. Полученные результаты могут лечь в основу написания полноценного классификатора-помощника врача, существенно ускоряющего процесс анализа гемограмм пациентов.\n",
        "\n"
      ],
      "metadata": {
        "id": "F57WJAcl23sd"
      }
    },
    {
      "cell_type": "markdown",
      "source": [
        "### Реализаиця решения"
      ],
      "metadata": {
        "id": "rB_mnMbwIF8y"
      }
    },
    {
      "cell_type": "code",
      "execution_count": 1,
      "metadata": {
        "id": "Qd1-ktZS2Stp"
      },
      "outputs": [],
      "source": [
        "import numpy as np\n",
        "import pandas as pd\n",
        "from sklearn.ensemble import RandomForestClassifier\n",
        "from sklearn.tree import DecisionTreeClassifier\n",
        "from sklearn.model_selection import train_test_split\n",
        "from sklearn.dummy import DummyClassifier\n",
        "from sklearn.metrics import f1_score\n",
        "from sklearn.utils import shuffle\n",
        "from tqdm import tqdm"
      ]
    },
    {
      "cell_type": "code",
      "source": [
        "data = pd.read_csv('blood_sample.csv')"
      ],
      "metadata": {
        "id": "zEkWBlAnJ7He"
      },
      "execution_count": 2,
      "outputs": []
    },
    {
      "cell_type": "code",
      "source": [
        "data = data.drop(['Unnamed: 0'], axis=1) # удаляем ненужный столбец\n",
        "data.head(15)"
      ],
      "metadata": {
        "colab": {
          "base_uri": "https://localhost:8080/",
          "height": 520
        },
        "id": "dLY1pENErvcN",
        "outputId": "b48446b5-3be4-4d17-a263-7de4d22b2898"
      },
      "execution_count": 3,
      "outputs": [
        {
          "output_type": "execute_result",
          "data": {
            "text/plain": [
              "        hb   rbc    wbc  seg_anc  ban_anc  seg_anc_%  ban_anc_%    anc  ly, %  \\\n",
              "0   130.61  5.06   4.43     2.34     0.05       48.1        1.1   2.39   32.3   \n",
              "1   148.76  4.68  14.11     8.34     0.05       69.9        0.4   8.40   44.9   \n",
              "2   147.70  3.53  15.94    11.03     0.65       69.4        4.1  11.68   16.1   \n",
              "3   148.88  3.57   5.89     3.44     0.25       68.4        5.0   3.69   33.5   \n",
              "4   155.48  3.62  14.66    10.32     0.80       64.0        5.0  11.13   15.8   \n",
              "5   137.22  3.62   7.35     5.02     0.24       68.0        3.2   5.26   20.2   \n",
              "6   138.42  5.01  13.27     8.80     0.53       58.0        3.5   9.33   14.8   \n",
              "7   143.78  3.91  15.07     8.90     0.19       71.7        1.5   9.09   47.4   \n",
              "8   148.39  4.12  13.89     9.82     0.77       53.7        4.2  10.60   11.6   \n",
              "9   132.74  4.75  10.13     5.67     0.28       60.2        3.0   5.95   25.7   \n",
              "10  158.69  4.87   7.32     4.23     0.23       48.6        2.6   4.46   23.5   \n",
              "11  133.99  4.99   8.79     6.02     0.39       70.6        4.6   6.41   22.4   \n",
              "12  142.51  3.53  16.55    12.04     0.35       64.7        1.9  12.39   15.2   \n",
              "13  134.60  4.83   4.41     2.86     0.16       62.2        3.4   3.02   19.7   \n",
              "14  137.37  4.35  13.67     8.12     0.28       69.5        2.4   8.41   49.4   \n",
              "\n",
              "     alc  eo, %   aec  ba, %   abc  mo, %   amc     plt   esr  norm  \n",
              "0   1.57    0.0  0.00    0.4  0.02    9.4  0.45  328.41  13.0   1.0  \n",
              "1   3.35    4.2  0.50    0.0  0.00   15.6  1.86  431.13   2.0   3.0  \n",
              "2   2.56    3.3  0.52    0.1  0.02    7.3  1.16  367.31  21.0   2.0  \n",
              "3   1.68    0.1  0.00    0.4  0.02    9.9  0.50  213.71   8.0   1.0  \n",
              "4   2.55    1.9  0.31    1.0  0.16    3.2  0.51  384.23  23.0   2.0  \n",
              "5   1.49    3.9  0.29    0.6  0.04    3.6  0.27  388.65  12.0   1.0  \n",
              "6   2.24    4.2  0.63    0.9  0.14    6.1  0.93  381.98  19.0   2.0  \n",
              "7   3.89    0.7  0.08    0.8  0.10   15.4  1.91  296.68  14.0   3.0  \n",
              "8   2.13    0.7  0.13    0.4  0.07    5.3  0.96  406.04  15.0   2.0  \n",
              "9   2.42    3.7  0.35    0.1  0.01   14.9  1.40  365.19  11.0   3.0  \n",
              "10  2.05    2.9  0.26    0.5  0.04    5.9  0.51  355.10   8.0   1.0  \n",
              "11  1.91    0.8  0.07    0.2  0.02    4.5  0.38  273.93   5.0   1.0  \n",
              "12  2.83    0.8  0.15    0.5  0.10    5.8  1.08  422.58  18.0   2.0  \n",
              "13  0.91    0.6  0.03    0.7  0.03    9.2  0.42  285.13   9.0   1.0  \n",
              "14  3.78    3.8  0.45    0.4  0.05    8.4  0.98  418.24   8.0   3.0  "
            ],
            "text/html": [
              "\n",
              "  <div id=\"df-46aeddad-bbab-4c2d-9550-75326f2b604c\">\n",
              "    <div class=\"colab-df-container\">\n",
              "      <div>\n",
              "<style scoped>\n",
              "    .dataframe tbody tr th:only-of-type {\n",
              "        vertical-align: middle;\n",
              "    }\n",
              "\n",
              "    .dataframe tbody tr th {\n",
              "        vertical-align: top;\n",
              "    }\n",
              "\n",
              "    .dataframe thead th {\n",
              "        text-align: right;\n",
              "    }\n",
              "</style>\n",
              "<table border=\"1\" class=\"dataframe\">\n",
              "  <thead>\n",
              "    <tr style=\"text-align: right;\">\n",
              "      <th></th>\n",
              "      <th>hb</th>\n",
              "      <th>rbc</th>\n",
              "      <th>wbc</th>\n",
              "      <th>seg_anc</th>\n",
              "      <th>ban_anc</th>\n",
              "      <th>seg_anc_%</th>\n",
              "      <th>ban_anc_%</th>\n",
              "      <th>anc</th>\n",
              "      <th>ly, %</th>\n",
              "      <th>alc</th>\n",
              "      <th>eo, %</th>\n",
              "      <th>aec</th>\n",
              "      <th>ba, %</th>\n",
              "      <th>abc</th>\n",
              "      <th>mo, %</th>\n",
              "      <th>amc</th>\n",
              "      <th>plt</th>\n",
              "      <th>esr</th>\n",
              "      <th>norm</th>\n",
              "    </tr>\n",
              "  </thead>\n",
              "  <tbody>\n",
              "    <tr>\n",
              "      <th>0</th>\n",
              "      <td>130.61</td>\n",
              "      <td>5.06</td>\n",
              "      <td>4.43</td>\n",
              "      <td>2.34</td>\n",
              "      <td>0.05</td>\n",
              "      <td>48.1</td>\n",
              "      <td>1.1</td>\n",
              "      <td>2.39</td>\n",
              "      <td>32.3</td>\n",
              "      <td>1.57</td>\n",
              "      <td>0.0</td>\n",
              "      <td>0.00</td>\n",
              "      <td>0.4</td>\n",
              "      <td>0.02</td>\n",
              "      <td>9.4</td>\n",
              "      <td>0.45</td>\n",
              "      <td>328.41</td>\n",
              "      <td>13.0</td>\n",
              "      <td>1.0</td>\n",
              "    </tr>\n",
              "    <tr>\n",
              "      <th>1</th>\n",
              "      <td>148.76</td>\n",
              "      <td>4.68</td>\n",
              "      <td>14.11</td>\n",
              "      <td>8.34</td>\n",
              "      <td>0.05</td>\n",
              "      <td>69.9</td>\n",
              "      <td>0.4</td>\n",
              "      <td>8.40</td>\n",
              "      <td>44.9</td>\n",
              "      <td>3.35</td>\n",
              "      <td>4.2</td>\n",
              "      <td>0.50</td>\n",
              "      <td>0.0</td>\n",
              "      <td>0.00</td>\n",
              "      <td>15.6</td>\n",
              "      <td>1.86</td>\n",
              "      <td>431.13</td>\n",
              "      <td>2.0</td>\n",
              "      <td>3.0</td>\n",
              "    </tr>\n",
              "    <tr>\n",
              "      <th>2</th>\n",
              "      <td>147.70</td>\n",
              "      <td>3.53</td>\n",
              "      <td>15.94</td>\n",
              "      <td>11.03</td>\n",
              "      <td>0.65</td>\n",
              "      <td>69.4</td>\n",
              "      <td>4.1</td>\n",
              "      <td>11.68</td>\n",
              "      <td>16.1</td>\n",
              "      <td>2.56</td>\n",
              "      <td>3.3</td>\n",
              "      <td>0.52</td>\n",
              "      <td>0.1</td>\n",
              "      <td>0.02</td>\n",
              "      <td>7.3</td>\n",
              "      <td>1.16</td>\n",
              "      <td>367.31</td>\n",
              "      <td>21.0</td>\n",
              "      <td>2.0</td>\n",
              "    </tr>\n",
              "    <tr>\n",
              "      <th>3</th>\n",
              "      <td>148.88</td>\n",
              "      <td>3.57</td>\n",
              "      <td>5.89</td>\n",
              "      <td>3.44</td>\n",
              "      <td>0.25</td>\n",
              "      <td>68.4</td>\n",
              "      <td>5.0</td>\n",
              "      <td>3.69</td>\n",
              "      <td>33.5</td>\n",
              "      <td>1.68</td>\n",
              "      <td>0.1</td>\n",
              "      <td>0.00</td>\n",
              "      <td>0.4</td>\n",
              "      <td>0.02</td>\n",
              "      <td>9.9</td>\n",
              "      <td>0.50</td>\n",
              "      <td>213.71</td>\n",
              "      <td>8.0</td>\n",
              "      <td>1.0</td>\n",
              "    </tr>\n",
              "    <tr>\n",
              "      <th>4</th>\n",
              "      <td>155.48</td>\n",
              "      <td>3.62</td>\n",
              "      <td>14.66</td>\n",
              "      <td>10.32</td>\n",
              "      <td>0.80</td>\n",
              "      <td>64.0</td>\n",
              "      <td>5.0</td>\n",
              "      <td>11.13</td>\n",
              "      <td>15.8</td>\n",
              "      <td>2.55</td>\n",
              "      <td>1.9</td>\n",
              "      <td>0.31</td>\n",
              "      <td>1.0</td>\n",
              "      <td>0.16</td>\n",
              "      <td>3.2</td>\n",
              "      <td>0.51</td>\n",
              "      <td>384.23</td>\n",
              "      <td>23.0</td>\n",
              "      <td>2.0</td>\n",
              "    </tr>\n",
              "    <tr>\n",
              "      <th>5</th>\n",
              "      <td>137.22</td>\n",
              "      <td>3.62</td>\n",
              "      <td>7.35</td>\n",
              "      <td>5.02</td>\n",
              "      <td>0.24</td>\n",
              "      <td>68.0</td>\n",
              "      <td>3.2</td>\n",
              "      <td>5.26</td>\n",
              "      <td>20.2</td>\n",
              "      <td>1.49</td>\n",
              "      <td>3.9</td>\n",
              "      <td>0.29</td>\n",
              "      <td>0.6</td>\n",
              "      <td>0.04</td>\n",
              "      <td>3.6</td>\n",
              "      <td>0.27</td>\n",
              "      <td>388.65</td>\n",
              "      <td>12.0</td>\n",
              "      <td>1.0</td>\n",
              "    </tr>\n",
              "    <tr>\n",
              "      <th>6</th>\n",
              "      <td>138.42</td>\n",
              "      <td>5.01</td>\n",
              "      <td>13.27</td>\n",
              "      <td>8.80</td>\n",
              "      <td>0.53</td>\n",
              "      <td>58.0</td>\n",
              "      <td>3.5</td>\n",
              "      <td>9.33</td>\n",
              "      <td>14.8</td>\n",
              "      <td>2.24</td>\n",
              "      <td>4.2</td>\n",
              "      <td>0.63</td>\n",
              "      <td>0.9</td>\n",
              "      <td>0.14</td>\n",
              "      <td>6.1</td>\n",
              "      <td>0.93</td>\n",
              "      <td>381.98</td>\n",
              "      <td>19.0</td>\n",
              "      <td>2.0</td>\n",
              "    </tr>\n",
              "    <tr>\n",
              "      <th>7</th>\n",
              "      <td>143.78</td>\n",
              "      <td>3.91</td>\n",
              "      <td>15.07</td>\n",
              "      <td>8.90</td>\n",
              "      <td>0.19</td>\n",
              "      <td>71.7</td>\n",
              "      <td>1.5</td>\n",
              "      <td>9.09</td>\n",
              "      <td>47.4</td>\n",
              "      <td>3.89</td>\n",
              "      <td>0.7</td>\n",
              "      <td>0.08</td>\n",
              "      <td>0.8</td>\n",
              "      <td>0.10</td>\n",
              "      <td>15.4</td>\n",
              "      <td>1.91</td>\n",
              "      <td>296.68</td>\n",
              "      <td>14.0</td>\n",
              "      <td>3.0</td>\n",
              "    </tr>\n",
              "    <tr>\n",
              "      <th>8</th>\n",
              "      <td>148.39</td>\n",
              "      <td>4.12</td>\n",
              "      <td>13.89</td>\n",
              "      <td>9.82</td>\n",
              "      <td>0.77</td>\n",
              "      <td>53.7</td>\n",
              "      <td>4.2</td>\n",
              "      <td>10.60</td>\n",
              "      <td>11.6</td>\n",
              "      <td>2.13</td>\n",
              "      <td>0.7</td>\n",
              "      <td>0.13</td>\n",
              "      <td>0.4</td>\n",
              "      <td>0.07</td>\n",
              "      <td>5.3</td>\n",
              "      <td>0.96</td>\n",
              "      <td>406.04</td>\n",
              "      <td>15.0</td>\n",
              "      <td>2.0</td>\n",
              "    </tr>\n",
              "    <tr>\n",
              "      <th>9</th>\n",
              "      <td>132.74</td>\n",
              "      <td>4.75</td>\n",
              "      <td>10.13</td>\n",
              "      <td>5.67</td>\n",
              "      <td>0.28</td>\n",
              "      <td>60.2</td>\n",
              "      <td>3.0</td>\n",
              "      <td>5.95</td>\n",
              "      <td>25.7</td>\n",
              "      <td>2.42</td>\n",
              "      <td>3.7</td>\n",
              "      <td>0.35</td>\n",
              "      <td>0.1</td>\n",
              "      <td>0.01</td>\n",
              "      <td>14.9</td>\n",
              "      <td>1.40</td>\n",
              "      <td>365.19</td>\n",
              "      <td>11.0</td>\n",
              "      <td>3.0</td>\n",
              "    </tr>\n",
              "    <tr>\n",
              "      <th>10</th>\n",
              "      <td>158.69</td>\n",
              "      <td>4.87</td>\n",
              "      <td>7.32</td>\n",
              "      <td>4.23</td>\n",
              "      <td>0.23</td>\n",
              "      <td>48.6</td>\n",
              "      <td>2.6</td>\n",
              "      <td>4.46</td>\n",
              "      <td>23.5</td>\n",
              "      <td>2.05</td>\n",
              "      <td>2.9</td>\n",
              "      <td>0.26</td>\n",
              "      <td>0.5</td>\n",
              "      <td>0.04</td>\n",
              "      <td>5.9</td>\n",
              "      <td>0.51</td>\n",
              "      <td>355.10</td>\n",
              "      <td>8.0</td>\n",
              "      <td>1.0</td>\n",
              "    </tr>\n",
              "    <tr>\n",
              "      <th>11</th>\n",
              "      <td>133.99</td>\n",
              "      <td>4.99</td>\n",
              "      <td>8.79</td>\n",
              "      <td>6.02</td>\n",
              "      <td>0.39</td>\n",
              "      <td>70.6</td>\n",
              "      <td>4.6</td>\n",
              "      <td>6.41</td>\n",
              "      <td>22.4</td>\n",
              "      <td>1.91</td>\n",
              "      <td>0.8</td>\n",
              "      <td>0.07</td>\n",
              "      <td>0.2</td>\n",
              "      <td>0.02</td>\n",
              "      <td>4.5</td>\n",
              "      <td>0.38</td>\n",
              "      <td>273.93</td>\n",
              "      <td>5.0</td>\n",
              "      <td>1.0</td>\n",
              "    </tr>\n",
              "    <tr>\n",
              "      <th>12</th>\n",
              "      <td>142.51</td>\n",
              "      <td>3.53</td>\n",
              "      <td>16.55</td>\n",
              "      <td>12.04</td>\n",
              "      <td>0.35</td>\n",
              "      <td>64.7</td>\n",
              "      <td>1.9</td>\n",
              "      <td>12.39</td>\n",
              "      <td>15.2</td>\n",
              "      <td>2.83</td>\n",
              "      <td>0.8</td>\n",
              "      <td>0.15</td>\n",
              "      <td>0.5</td>\n",
              "      <td>0.10</td>\n",
              "      <td>5.8</td>\n",
              "      <td>1.08</td>\n",
              "      <td>422.58</td>\n",
              "      <td>18.0</td>\n",
              "      <td>2.0</td>\n",
              "    </tr>\n",
              "    <tr>\n",
              "      <th>13</th>\n",
              "      <td>134.60</td>\n",
              "      <td>4.83</td>\n",
              "      <td>4.41</td>\n",
              "      <td>2.86</td>\n",
              "      <td>0.16</td>\n",
              "      <td>62.2</td>\n",
              "      <td>3.4</td>\n",
              "      <td>3.02</td>\n",
              "      <td>19.7</td>\n",
              "      <td>0.91</td>\n",
              "      <td>0.6</td>\n",
              "      <td>0.03</td>\n",
              "      <td>0.7</td>\n",
              "      <td>0.03</td>\n",
              "      <td>9.2</td>\n",
              "      <td>0.42</td>\n",
              "      <td>285.13</td>\n",
              "      <td>9.0</td>\n",
              "      <td>1.0</td>\n",
              "    </tr>\n",
              "    <tr>\n",
              "      <th>14</th>\n",
              "      <td>137.37</td>\n",
              "      <td>4.35</td>\n",
              "      <td>13.67</td>\n",
              "      <td>8.12</td>\n",
              "      <td>0.28</td>\n",
              "      <td>69.5</td>\n",
              "      <td>2.4</td>\n",
              "      <td>8.41</td>\n",
              "      <td>49.4</td>\n",
              "      <td>3.78</td>\n",
              "      <td>3.8</td>\n",
              "      <td>0.45</td>\n",
              "      <td>0.4</td>\n",
              "      <td>0.05</td>\n",
              "      <td>8.4</td>\n",
              "      <td>0.98</td>\n",
              "      <td>418.24</td>\n",
              "      <td>8.0</td>\n",
              "      <td>3.0</td>\n",
              "    </tr>\n",
              "  </tbody>\n",
              "</table>\n",
              "</div>\n",
              "      <button class=\"colab-df-convert\" onclick=\"convertToInteractive('df-46aeddad-bbab-4c2d-9550-75326f2b604c')\"\n",
              "              title=\"Convert this dataframe to an interactive table.\"\n",
              "              style=\"display:none;\">\n",
              "        \n",
              "  <svg xmlns=\"http://www.w3.org/2000/svg\" height=\"24px\"viewBox=\"0 0 24 24\"\n",
              "       width=\"24px\">\n",
              "    <path d=\"M0 0h24v24H0V0z\" fill=\"none\"/>\n",
              "    <path d=\"M18.56 5.44l.94 2.06.94-2.06 2.06-.94-2.06-.94-.94-2.06-.94 2.06-2.06.94zm-11 1L8.5 8.5l.94-2.06 2.06-.94-2.06-.94L8.5 2.5l-.94 2.06-2.06.94zm10 10l.94 2.06.94-2.06 2.06-.94-2.06-.94-.94-2.06-.94 2.06-2.06.94z\"/><path d=\"M17.41 7.96l-1.37-1.37c-.4-.4-.92-.59-1.43-.59-.52 0-1.04.2-1.43.59L10.3 9.45l-7.72 7.72c-.78.78-.78 2.05 0 2.83L4 21.41c.39.39.9.59 1.41.59.51 0 1.02-.2 1.41-.59l7.78-7.78 2.81-2.81c.8-.78.8-2.07 0-2.86zM5.41 20L4 18.59l7.72-7.72 1.47 1.35L5.41 20z\"/>\n",
              "  </svg>\n",
              "      </button>\n",
              "      \n",
              "  <style>\n",
              "    .colab-df-container {\n",
              "      display:flex;\n",
              "      flex-wrap:wrap;\n",
              "      gap: 12px;\n",
              "    }\n",
              "\n",
              "    .colab-df-convert {\n",
              "      background-color: #E8F0FE;\n",
              "      border: none;\n",
              "      border-radius: 50%;\n",
              "      cursor: pointer;\n",
              "      display: none;\n",
              "      fill: #1967D2;\n",
              "      height: 32px;\n",
              "      padding: 0 0 0 0;\n",
              "      width: 32px;\n",
              "    }\n",
              "\n",
              "    .colab-df-convert:hover {\n",
              "      background-color: #E2EBFA;\n",
              "      box-shadow: 0px 1px 2px rgba(60, 64, 67, 0.3), 0px 1px 3px 1px rgba(60, 64, 67, 0.15);\n",
              "      fill: #174EA6;\n",
              "    }\n",
              "\n",
              "    [theme=dark] .colab-df-convert {\n",
              "      background-color: #3B4455;\n",
              "      fill: #D2E3FC;\n",
              "    }\n",
              "\n",
              "    [theme=dark] .colab-df-convert:hover {\n",
              "      background-color: #434B5C;\n",
              "      box-shadow: 0px 1px 3px 1px rgba(0, 0, 0, 0.15);\n",
              "      filter: drop-shadow(0px 1px 2px rgba(0, 0, 0, 0.3));\n",
              "      fill: #FFFFFF;\n",
              "    }\n",
              "  </style>\n",
              "\n",
              "      <script>\n",
              "        const buttonEl =\n",
              "          document.querySelector('#df-46aeddad-bbab-4c2d-9550-75326f2b604c button.colab-df-convert');\n",
              "        buttonEl.style.display =\n",
              "          google.colab.kernel.accessAllowed ? 'block' : 'none';\n",
              "\n",
              "        async function convertToInteractive(key) {\n",
              "          const element = document.querySelector('#df-46aeddad-bbab-4c2d-9550-75326f2b604c');\n",
              "          const dataTable =\n",
              "            await google.colab.kernel.invokeFunction('convertToInteractive',\n",
              "                                                     [key], {});\n",
              "          if (!dataTable) return;\n",
              "\n",
              "          const docLinkHtml = 'Like what you see? Visit the ' +\n",
              "            '<a target=\"_blank\" href=https://colab.research.google.com/notebooks/data_table.ipynb>data table notebook</a>'\n",
              "            + ' to learn more about interactive tables.';\n",
              "          element.innerHTML = '';\n",
              "          dataTable['output_type'] = 'display_data';\n",
              "          await google.colab.output.renderOutput(dataTable, element);\n",
              "          const docLink = document.createElement('div');\n",
              "          docLink.innerHTML = docLinkHtml;\n",
              "          element.appendChild(docLink);\n",
              "        }\n",
              "      </script>\n",
              "    </div>\n",
              "  </div>\n",
              "  "
            ]
          },
          "metadata": {},
          "execution_count": 3
        }
      ]
    },
    {
      "cell_type": "code",
      "source": [
        "data.info()"
      ],
      "metadata": {
        "colab": {
          "base_uri": "https://localhost:8080/"
        },
        "id": "oJ_xgvcIqx8U",
        "outputId": "d45215b5-fbb5-45d4-f2bd-28e4e2afd5fa"
      },
      "execution_count": 4,
      "outputs": [
        {
          "output_type": "stream",
          "name": "stdout",
          "text": [
            "<class 'pandas.core.frame.DataFrame'>\n",
            "RangeIndex: 3000 entries, 0 to 2999\n",
            "Data columns (total 19 columns):\n",
            " #   Column     Non-Null Count  Dtype  \n",
            "---  ------     --------------  -----  \n",
            " 0   hb         3000 non-null   float64\n",
            " 1   rbc        3000 non-null   float64\n",
            " 2   wbc        3000 non-null   float64\n",
            " 3   seg_anc    3000 non-null   float64\n",
            " 4   ban_anc    3000 non-null   float64\n",
            " 5   seg_anc_%  3000 non-null   float64\n",
            " 6   ban_anc_%  3000 non-null   float64\n",
            " 7   anc        3000 non-null   float64\n",
            " 8   ly, %      3000 non-null   float64\n",
            " 9   alc        3000 non-null   float64\n",
            " 10  eo, %      3000 non-null   float64\n",
            " 11  aec        3000 non-null   float64\n",
            " 12  ba, %      3000 non-null   float64\n",
            " 13  abc        3000 non-null   float64\n",
            " 14  mo, %      3000 non-null   float64\n",
            " 15  amc        3000 non-null   float64\n",
            " 16  plt        3000 non-null   float64\n",
            " 17  esr        3000 non-null   float64\n",
            " 18  norm       3000 non-null   float64\n",
            "dtypes: float64(19)\n",
            "memory usage: 445.4 KB\n"
          ]
        }
      ]
    },
    {
      "cell_type": "markdown",
      "source": [
        "*   hb - гемоглобин, г/л\n",
        "*   rbc - эритроциты, 10^12/л\n",
        "*   wbc - лейкоциты, 10^9/л\n",
        "*   seg_anc - сегментоядерные нейтрофилы, 10^9/л\n",
        "*   ban_anc - палочкоядерные нейтрофилы, 10^9/л\n",
        "*   seg_anc_% - сегментоядерные нейтрофилы, %\n",
        "*   ban_anc_% - палочкоядерные нейтрофилы, %\n",
        "*   anc - нейтрофилы, 10^9/л\n",
        "*   ly, % - лимфоциты, %\n",
        "*   alc - лимфоциты, 10^9/л\n",
        "*   eo, % - эозинофилы, %\n",
        "*   aec - эозинофилы, 10^9/л\n",
        "*   ba, % - базофилы, %\n",
        "*   abc - базофилы, 10^9/л\n",
        "*   mo, % - моноциты, %\n",
        "*   amc - моноциты, 10^9/л\n",
        "*   plt - тромбоциты, 10^9/л\n",
        "*   esr - СОЭ, мм/час\n",
        "*   norm - норма: 1, бактериальное воспаление: 2, вирусное воспаление: 3"
      ],
      "metadata": {
        "id": "NPYY1bBiC3_x"
      }
    },
    {
      "cell_type": "markdown",
      "source": [
        "В данных нет пропусков, типы данных не требуют изменений."
      ],
      "metadata": {
        "id": "oGvv0U88sl7Y"
      }
    },
    {
      "cell_type": "markdown",
      "source": [
        "Готовим выборки для обучения."
      ],
      "metadata": {
        "id": "6WhjTzjYsiza"
      }
    },
    {
      "cell_type": "code",
      "source": [
        "target = data.norm\n",
        "features = data.drop(['norm'], axis=1)\n",
        "features_train, features_test, target_train, target_test = train_test_split(features, target, test_size = 0.2, random_state=1)\n",
        "features_train, features_valid, target_train, target_valid = train_test_split(features_train, target_train, test_size = 0.25, random_state=1)"
      ],
      "metadata": {
        "id": "yQH-Zc_2LJ8n"
      },
      "execution_count": 5,
      "outputs": []
    },
    {
      "cell_type": "markdown",
      "source": [
        "### Проверим выборки на дисбаланс"
      ],
      "metadata": {
        "id": "3tDTEVQ5Z2it"
      }
    },
    {
      "cell_type": "code",
      "source": [
        "print(f'features_train: {features_train.shape}')\n",
        "print(f'features_valid: {features_valid.shape}')\n",
        "print(f'features_test: {features_test.shape}')\n",
        "print(data['norm'].value_counts())"
      ],
      "metadata": {
        "id": "yM3jPTLqZ1J3",
        "colab": {
          "base_uri": "https://localhost:8080/"
        },
        "outputId": "c2b62a76-2be9-4a01-9754-5b3a00cf4c0d"
      },
      "execution_count": 6,
      "outputs": [
        {
          "output_type": "stream",
          "name": "stdout",
          "text": [
            "features_train: (1800, 18)\n",
            "features_valid: (600, 18)\n",
            "features_test: (600, 18)\n",
            "1.0    1000\n",
            "3.0    1000\n",
            "2.0    1000\n",
            "Name: norm, dtype: int64\n"
          ]
        }
      ]
    },
    {
      "cell_type": "markdown",
      "source": [
        "Размерность выборок совпадает, дисбаланса таргетов не обнаружено."
      ],
      "metadata": {
        "id": "3KCKBSUFlbnQ"
      }
    },
    {
      "cell_type": "markdown",
      "source": [
        "###Модели"
      ],
      "metadata": {
        "id": "TgcP9yUmbd8d"
      }
    },
    {
      "cell_type": "markdown",
      "source": [
        "*Поскольку при создании датасета использовалась технология OrdinalEncoder, столбец target содержит значения в формате:* \n",
        "\n",
        "\n",
        "{'норма' : 1, 'бактериальная инфекция' : 2, 'вирусная инфекция' : 3}.\n",
        "\n",
        "\n",
        "*Данный тип кодирования категориальных данных оптимален для ансамблевых моделей машинного обучения, но категорически не подходит для реализации логистической регрессии.*\n",
        "\n",
        "\n",
        "*В связи с данной особенностью данных было принято решение в первую очередь проанализировать классификаторы \"решающее дерево\" и \"случайный лес\", а к логистической регрессии перейти только в случае неудачи с реализацией выбранных моделей.* "
      ],
      "metadata": {
        "id": "hFMlfjErbhXS"
      }
    },
    {
      "cell_type": "markdown",
      "source": [
        "#### Решающее дерево"
      ],
      "metadata": {
        "id": "VPlqsgJPddtA"
      }
    },
    {
      "cell_type": "markdown",
      "source": [
        "Реализуем подбор гиперпараметров для решающего дерева: максимальная глубина."
      ],
      "metadata": {
        "id": "EOLyAD2SBDXH"
      }
    },
    {
      "cell_type": "code",
      "source": [
        "best_f1 = 0\n",
        "for depth in tqdm(range(1,21,1)):\n",
        "    model = DecisionTreeClassifier(random_state=1, max_depth=depth, criterion='gini')\n",
        "    model.fit(features_train, target_train)\n",
        "    predicted_valid = model.predict(features_valid)\n",
        "    if f1_score(target_valid, predicted_valid, average='macro') > best_f1:\n",
        "        best_f1 = f1_score(target_valid, predicted_valid,average='macro')\n",
        "        best_depth = depth\n",
        "        print(\"F1:\", round(f1_score(target_valid, predicted_valid, average='macro'), 4), \"depth:\", best_depth)   "
      ],
      "metadata": {
        "colab": {
          "base_uri": "https://localhost:8080/"
        },
        "id": "8zRUUglZY1Ov",
        "outputId": "4a036a88-a6a3-4e0b-c9ce-3543ce821395"
      },
      "execution_count": 7,
      "outputs": [
        {
          "output_type": "stream",
          "name": "stderr",
          "text": [
            " 30%|███       | 6/20 [00:00<00:00, 57.51it/s]"
          ]
        },
        {
          "output_type": "stream",
          "name": "stdout",
          "text": [
            "F1: 0.5302 depth: 1\n",
            "F1: 0.962 depth: 2\n",
            "F1: 0.9741 depth: 3\n",
            "F1: 0.9758 depth: 4\n",
            "F1: 0.9776 depth: 6\n"
          ]
        },
        {
          "output_type": "stream",
          "name": "stderr",
          "text": [
            "100%|██████████| 20/20 [00:00<00:00, 58.95it/s]\n"
          ]
        }
      ]
    },
    {
      "cell_type": "code",
      "source": [
        "f1_score(target_test, model.predict(features_test), average = 'macro')"
      ],
      "metadata": {
        "colab": {
          "base_uri": "https://localhost:8080/"
        },
        "id": "y5AmSOs3ZPHt",
        "outputId": "da582336-3837-4bc7-fdfb-b189d6197fbc"
      },
      "execution_count": 8,
      "outputs": [
        {
          "output_type": "execute_result",
          "data": {
            "text/plain": [
              "0.9725172672275946"
            ]
          },
          "metadata": {},
          "execution_count": 8
        }
      ]
    },
    {
      "cell_type": "markdown",
      "source": [
        "Решающее дерево показывает отличные результаты по f1-мере: 0.974. Всё-таки прибегнем к более сложной модели - случайному лесу."
      ],
      "metadata": {
        "id": "6SPpDhbCBQ3o"
      }
    },
    {
      "cell_type": "markdown",
      "source": [
        "#### Случайный лес"
      ],
      "metadata": {
        "id": "IGQNii-Bdlqy"
      }
    },
    {
      "cell_type": "markdown",
      "source": [
        "Реализуем подбор гиперпараметров для случайного леса: максимальная глубина, количество деревьев. Обучаем модель на тренировочной выборке и оцениваем f1 меру на валидационных данных.\n",
        "\n",
        "В f1_score устанавливаем параметр average='macro', поскольку классификация мультиклассовая."
      ],
      "metadata": {
        "id": "GITb949_eYA3"
      }
    },
    {
      "cell_type": "code",
      "source": [
        "best_f1 = 0\n",
        "for depth in tqdm(range(1,11,1)):\n",
        "  for estimators in range(1,21,1):\n",
        "    model = RandomForestClassifier(random_state=1, max_depth=depth, n_estimators=estimators)\n",
        "    model.fit(features_train, target_train)\n",
        "    predicted_valid = model.predict(features_valid)\n",
        "    if f1_score(target_valid, predicted_valid, average = 'macro') > best_f1:\n",
        "      best_f1 = f1_score(target_valid, predicted_valid, average='macro')\n",
        "      best_depth = depth\n",
        "      best_estimators = estimators\n",
        "      print(\"F1:\", round(f1_score(target_valid, predicted_valid, average='macro'), 4), \"depth:\", best_depth, \n",
        "            \"estimators:\", best_estimators)   "
      ],
      "metadata": {
        "colab": {
          "base_uri": "https://localhost:8080/"
        },
        "id": "GxWE7PBiNULZ",
        "outputId": "158bd3a6-1075-429d-ae79-762fdcb9efaa"
      },
      "execution_count": 9,
      "outputs": [
        {
          "output_type": "stream",
          "name": "stderr",
          "text": [
            "\r  0%|          | 0/10 [00:00<?, ?it/s]"
          ]
        },
        {
          "output_type": "stream",
          "name": "stdout",
          "text": [
            "F1: 0.5345 depth: 1 estimators: 1\n",
            "F1: 0.793 depth: 1 estimators: 2\n",
            "F1: 0.9417 depth: 1 estimators: 3\n",
            "F1: 0.971 depth: 1 estimators: 4\n"
          ]
        },
        {
          "output_type": "stream",
          "name": "stderr",
          "text": [
            "\r 10%|█         | 1/10 [00:00<00:04,  1.89it/s]"
          ]
        },
        {
          "output_type": "stream",
          "name": "stdout",
          "text": [
            "F1: 0.9725 depth: 2 estimators: 3\n",
            "F1: 0.9742 depth: 2 estimators: 4\n",
            "F1: 0.9743 depth: 2 estimators: 5\n"
          ]
        },
        {
          "output_type": "stream",
          "name": "stderr",
          "text": [
            "\r 20%|██        | 2/10 [00:01<00:04,  1.61it/s]"
          ]
        },
        {
          "output_type": "stream",
          "name": "stdout",
          "text": [
            "F1: 0.9744 depth: 3 estimators: 7\n"
          ]
        },
        {
          "output_type": "stream",
          "name": "stderr",
          "text": [
            "\r 30%|███       | 3/10 [00:01<00:04,  1.59it/s]"
          ]
        },
        {
          "output_type": "stream",
          "name": "stdout",
          "text": [
            "F1: 0.9758 depth: 4 estimators: 8\n",
            "F1: 0.976 depth: 4 estimators: 12\n"
          ]
        },
        {
          "output_type": "stream",
          "name": "stderr",
          "text": [
            "\r 40%|████      | 4/10 [00:02<00:03,  1.54it/s]"
          ]
        },
        {
          "output_type": "stream",
          "name": "stdout",
          "text": [
            "F1: 0.9777 depth: 5 estimators: 2\n",
            "F1: 0.9794 depth: 5 estimators: 4\n"
          ]
        },
        {
          "output_type": "stream",
          "name": "stderr",
          "text": [
            " 60%|██████    | 6/10 [00:04<00:02,  1.39it/s]"
          ]
        },
        {
          "output_type": "stream",
          "name": "stdout",
          "text": [
            "F1: 0.981 depth: 7 estimators: 3\n"
          ]
        },
        {
          "output_type": "stream",
          "name": "stderr",
          "text": [
            " 80%|████████  | 8/10 [00:08<00:02,  1.43s/it]"
          ]
        },
        {
          "output_type": "stream",
          "name": "stdout",
          "text": [
            "F1: 0.9827 depth: 9 estimators: 14\n"
          ]
        },
        {
          "output_type": "stream",
          "name": "stderr",
          "text": [
            "100%|██████████| 10/10 [00:10<00:00,  1.08s/it]\n"
          ]
        }
      ]
    },
    {
      "cell_type": "markdown",
      "source": [
        "Проводим окончательный мониторинг эффективности модели на тестовых данных."
      ],
      "metadata": {
        "id": "S16VsMrGfByi"
      }
    },
    {
      "cell_type": "code",
      "source": [
        "f1_score(target_test, model.predict(features_test), average = 'macro')"
      ],
      "metadata": {
        "colab": {
          "base_uri": "https://localhost:8080/"
        },
        "id": "tMyqRshSSKKS",
        "outputId": "60c9c7b5-d49a-4658-a780-66259414f970"
      },
      "execution_count": 10,
      "outputs": [
        {
          "output_type": "execute_result",
          "data": {
            "text/plain": [
              "0.9789753982006323"
            ]
          },
          "metadata": {},
          "execution_count": 10
        }
      ]
    },
    {
      "cell_type": "markdown",
      "source": [
        "Случайный лес немного улучшил и так отличные показатели: f1_score = 0.9789\n",
        "\n",
        "Можно сказать, что модель практически безошибочно определяет принадлежность нового объекта к классу."
      ],
      "metadata": {
        "id": "MztCSfeTtM1a"
      }
    },
    {
      "cell_type": "markdown",
      "source": [
        "####  DummyClassifier для проверки модели на адекватность"
      ],
      "metadata": {
        "id": "qbDvzqH51fEj"
      }
    },
    {
      "cell_type": "code",
      "source": [
        "dummy_model = DummyClassifier(strategy='uniform', random_state=1)\n",
        "dummy_model.fit(features_train, target_train)\n",
        "f1_score(dummy_model.predict(features_test), target_test, average='macro')"
      ],
      "metadata": {
        "colab": {
          "base_uri": "https://localhost:8080/"
        },
        "id": "f2aICiHU1k00",
        "outputId": "03ad2b9c-9722-4543-ee35-eb5f802cfa6c"
      },
      "execution_count": 11,
      "outputs": [
        {
          "output_type": "execute_result",
          "data": {
            "text/plain": [
              "0.3171423696473806"
            ]
          },
          "metadata": {},
          "execution_count": 11
        }
      ]
    },
    {
      "cell_type": "markdown",
      "source": [
        "DummyClassifier не справляется с задачей и показывает значительно худшие результаты, сравнивая с моедлью случайного леса с подобранными гиперпараметрами."
      ],
      "metadata": {
        "id": "pFE8c2Ha2Qg1"
      }
    },
    {
      "cell_type": "markdown",
      "source": [
        "###Вывод\n",
        "Продемонстрированные возможности выбранных моделей машинного обучения (DecisionTreeClassifier и RandomForestClassifier) могут существенно ускорить внедрение подобного программного обеспечения в поликлинические учреждения здравоохранения и значительно сократить время и функцию ошибки дифференциальной диагностики воспалительных заболеваний, а также увеличить точность назначения антибактериальной терапии против именно бактериальных инфекций."
      ],
      "metadata": {
        "id": "-tI2MpuYXPxk"
      }
    },
    {
      "cell_type": "markdown",
      "source": [
        "###Список литературы"
      ],
      "metadata": {
        "id": "MsMKMYYxXfok"
      }
    },
    {
      "cell_type": "markdown",
      "source": [
        "1.\tAdam H. Agbaria, Guy Beck Rosen, Itshak Lapidot, Daniel H. Rich, Mahmoud Huleihel, Shaul Mordechai, Ahmad Salman, and Joseph Kapelushnik, Differential Diagnosis of the Etiologies of Bacterial and Viral Infections Using Infrared Microscopy of Peripheral Human Blood Samples and Multivariate Analysis, Analytical Chemistry 2018 90 (13), 7888-7895, DOI: 10.1021/acs.analchem.8b00017\n",
        "2.\tGunčar, G., Kukar, M., Notar, M. et al. An application of machine learning to haematological diagnosis. Sci Rep 8, 411 (2018). https://doi.org/10.1038/s41598-017-18564-8\n",
        "3.\tLargman-Chalamish M, Wasserman A, Silberman A, Levinson T, Ritter O, Berliner S, et al. (2022) Differentiating between bacterial and viral infections by estimated CRP velocity. PLoS ONE 17(12): e0277401. https://doi.org/10.1371/journal. pone.0277401\n",
        "4.\tThomas J, Pociute A, Kevalas R, Malinauskas M, Jankauskaite L. Blood biomarkers differentiating viral versus bacterial pneumonia aetiology: a literature review. Ital J Pediatr. 2020 Jan 9;46(1):4. doi: 10.1186/s13052-020-0770-3. PMID: 31918745; PMCID: PMC6953310.\n",
        "5.\tSweeney TE, Wong HR, Khatri P. Robust classification of bacterial and viral infections via integrated host gene expression diagnostics. Sci Transl Med. 2016 Jul 6;8(346):346ra91. doi: 10.1126/scitranslmed.aaf7165. PMID: 27384347; PMCID: PMC5348917.\n"
      ],
      "metadata": {
        "id": "xgpn67QL2oMv"
      }
    }
  ]
}